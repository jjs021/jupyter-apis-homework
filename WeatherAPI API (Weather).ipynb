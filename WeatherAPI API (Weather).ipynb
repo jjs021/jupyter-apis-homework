{
 "cells": [
  {
   "cell_type": "markdown",
   "metadata": {},
   "source": [
    "# WeatherAPI (Weather)\n",
    "\n",
    "Answer the following questions using [WeatherAPI](http://www.weatherapi.com/). I've added three cells for most questions but you're free to use more or less! Hold `Shift` and hit `Enter` to run a cell, and use the `+` on the top left to add a new cell to a notebook.\n",
    "\n",
    "Be sure to take advantage of both the documentation and the API Explorer!\n",
    "\n",
    "## 0) Import any libraries you might need\n",
    "\n",
    "- *Tip: We're going to be downloading things from the internet, so we probably need `requests`.*\n",
    "- *Tip: Remember you only need to import requests once!*"
   ]
  },
  {
   "cell_type": "code",
   "execution_count": 189,
   "metadata": {},
   "outputs": [],
   "source": [
    "import requests\n",
    "from WeatherAPIKey_SECRET import WeatherAPIKey"
   ]
  },
  {
   "cell_type": "markdown",
   "metadata": {
    "collapsed": true
   },
   "source": [
    "## 1) Make a request to the Weather API for where you were born (or lived, or want to visit!).\n",
    "\n",
    "- *Tip: This sure seems familiar.*"
   ]
  },
  {
   "cell_type": "code",
   "execution_count": 190,
   "metadata": {
    "scrolled": true
   },
   "outputs": [],
   "source": [
    "data = requests.get(f\"http://api.weatherapi.com/v1/current.json?key={WeatherAPIKey}&q=seoul&aqi=no\").json()"
   ]
  },
  {
   "cell_type": "code",
   "execution_count": 172,
   "metadata": {
    "scrolled": true
   },
   "outputs": [],
   "source": [
    "#print len(data['current'].keys())"
   ]
  },
  {
   "cell_type": "markdown",
   "metadata": {},
   "source": [
    "## 2) What's the current wind speed, and how much warmer does it feel than it actually is?\n",
    "\n",
    "- *Tip: You can do this by browsing through the dictionaries, but it might be easier to read the documentation*\n",
    "- *Tip: For the second half: it **is** one temperature, and it **feels** a different temperature. Calculate the difference. Same as we did last time!*"
   ]
  },
  {
   "cell_type": "code",
   "execution_count": 191,
   "metadata": {},
   "outputs": [
    {
     "name": "stdout",
     "output_type": "stream",
     "text": [
      "current wind speed is 4.7 mile per hour.\n"
     ]
    }
   ],
   "source": [
    "print(f\"current wind speed is {data['current']['wind_mph']} mile per hour.\")"
   ]
  },
  {
   "cell_type": "code",
   "execution_count": 174,
   "metadata": {},
   "outputs": [
    {
     "name": "stdout",
     "output_type": "stream",
     "text": [
      "it is 76.8 and it feels like 78.8 \n"
     ]
    }
   ],
   "source": [
    "print(f\"it is {data['current']['temp_f']} and it feels like {data['current']['feelslike_f']} \")"
   ]
  },
  {
   "cell_type": "markdown",
   "metadata": {},
   "source": [
    "## 3) What is the API endpoint for moon-related information? For the place you decided on above, how much of the moon will be visible on next Thursday?\n",
    "\n",
    "- *Tip: Check the documentation!*\n",
    "- *Tip: If you aren't sure what something means, ask in Slack*"
   ]
  },
  {
   "cell_type": "code",
   "execution_count": 192,
   "metadata": {},
   "outputs": [],
   "source": [
    "#http://api.weatherapi.com/v1/forecast.json?key=<YOURKEY>&q=seoul&days=7&aqi=no&alerts=no"
   ]
  },
  {
   "cell_type": "code",
   "execution_count": 193,
   "metadata": {},
   "outputs": [],
   "source": [
    "moon_data = requests.get(f\"http://api.weatherapi.com/v1/forecast.json?key={WeatherAPIKey}&q=seoul&days=7&aqi=no&alerts=no\").json()"
   ]
  },
  {
   "cell_type": "code",
   "execution_count": 177,
   "metadata": {},
   "outputs": [
    {
     "name": "stdout",
     "output_type": "stream",
     "text": [
      "dict_keys(['location', 'current', 'forecast'])\n"
     ]
    }
   ],
   "source": [
    "print(moon_data.keys())"
   ]
  },
  {
   "cell_type": "code",
   "execution_count": 178,
   "metadata": {},
   "outputs": [
    {
     "name": "stdout",
     "output_type": "stream",
     "text": [
      "Next Wednesday's moon is Full Moon .\n"
     ]
    }
   ],
   "source": [
    "#the free version only have 3-day data\n",
    "\n",
    "for moon_day in moon_data['forecast']['forecastday']:\n",
    "\n",
    " #print(moon_day['date'])\n",
    "   if moon_day['date'] == '2021-06-23':\n",
    "       print(\"Next Wednesday's moon is\",moon_day['astro']['moon_phase'],\".\") \n"
   ]
  },
  {
   "cell_type": "markdown",
   "metadata": {},
   "source": [
    "## 4) What's the difference between the high and low temperatures for today?\n",
    "\n",
    "- *Tip: When you requested moon data, you probably overwrote your variables! If so, you'll need to make a new request.*"
   ]
  },
  {
   "cell_type": "code",
   "execution_count": 179,
   "metadata": {},
   "outputs": [
    {
     "name": "stdout",
     "output_type": "stream",
     "text": [
      "Today's temperature is 76.8F and the feeling temperature is 78.8F. The difference is 2.0F.\n"
     ]
    }
   ],
   "source": [
    "print (f\"Today's temperature is {data['current']['temp_f']}F and the feeling temperature is {data['current']['feelslike_f']}F. The difference is {round(abs(data['current']['temp_f'] - data['current']['feelslike_f']),1)}F.\")"
   ]
  },
  {
   "cell_type": "markdown",
   "metadata": {
    "collapsed": true
   },
   "source": [
    "## 4.5) How can you avoid the \"oh no I don't have the data any more because I made another request\" problem in the future?\n",
    "\n",
    "What variable(s) do you have to rename, and what would you rename them?"
   ]
  },
  {
   "cell_type": "code",
   "execution_count": 180,
   "metadata": {},
   "outputs": [],
   "source": [
    "#Give different data names for differnt data sets."
   ]
  },
  {
   "cell_type": "markdown",
   "metadata": {},
   "source": [
    "## 5) Go through the daily forecasts, printing out the next week's worth of predictions.\n",
    "\n",
    "I'd like to know the **high temperature** for each day, and whether it's **hot, warm, or cold** (based on what temperatures you think are hot, warm or cold).\n",
    "\n",
    "- *Tip: You'll need to use an `if` statement to say whether it is hot, warm or cold.*"
   ]
  },
  {
   "cell_type": "code",
   "execution_count": 181,
   "metadata": {
    "scrolled": true
   },
   "outputs": [
    {
     "name": "stdout",
     "output_type": "stream",
     "text": [
      "2021-06-21 85.1 F. It's hot.\n",
      "2021-06-22 84.9 F. It's hot.\n",
      "2021-06-23 81.3 F. It's hot.\n"
     ]
    }
   ],
   "source": [
    "for moon_day in moon_data['forecast']['forecastday']:\n",
    "        if moon_day['day']['maxtemp_f'] > 79:\n",
    "             print (moon_day['date'],moon_day['day']['maxtemp_f'],\"F. It's hot.\")\n",
    "        elif moon_day['day']['maxtemp_f'] < 68:\n",
    "             print (moon_day['date'],moon_day['day']['maxtemp_f'],\"F. It's cold.\")\n",
    "        else:\n",
    "            print (moon_day['date'],moon_day['day']['maxtemp_f'],\"F. It's warm.\")\n",
    " "
   ]
  },
  {
   "cell_type": "markdown",
   "metadata": {},
   "source": [
    "# 6) What will be the hottest day in the next week? What is the high temperature on that day?"
   ]
  },
  {
   "cell_type": "code",
   "execution_count": 182,
   "metadata": {},
   "outputs": [
    {
     "name": "stdout",
     "output_type": "stream",
     "text": [
      "The hottest day is 2021-06-21, and the temperature is 85.1F.\n"
     ]
    }
   ],
   "source": [
    "hottest_list = []\n",
    "\n",
    "for moon_day in moon_data['forecast']['forecastday']:\n",
    "\n",
    "    hottest_list.append((moon_day['day']['maxtemp_f'], moon_day['date']) )\n",
    "    \n",
    "    hottest_day = max(hottest_list, key=lambda d: d[0])\n",
    "    \n",
    "    \n",
    "print (f\"The hottest day is {hottest_day[1]}, and the temperature is {hottest_day[0]}F.\")\n",
    "   \n",
    "    "
   ]
  },
  {
   "cell_type": "markdown",
   "metadata": {},
   "source": [
    "## 7) What's the weather looking like for the next 24+ hours in Miami, Florida?\n",
    "\n",
    "I'd like to know the temperature for every hour, and if it's going to have cloud cover of more than 50% say \"{temperature} and cloudy\" instead of just the temperature. \n",
    "\n",
    "- *Tip: You'll only need one day of forecast*"
   ]
  },
  {
   "cell_type": "code",
   "execution_count": 183,
   "metadata": {},
   "outputs": [],
   "source": [
    "fl_data = requests.get(f\"http://api.weatherapi.com/v1/current.json?key={WeatherAPIKey}&q=florida&aqi=no\").json()"
   ]
  },
  {
   "cell_type": "code",
   "execution_count": 184,
   "metadata": {},
   "outputs": [
    {
     "name": "stdout",
     "output_type": "stream",
     "text": [
      "Current florid weather is 67.3F, Torrential rain shower.\n"
     ]
    }
   ],
   "source": [
    "print (f\"Current florid weather is {fl_data['current']['temp_f']}F, {fl_data['current']['condition']['text']}.\")"
   ]
  },
  {
   "cell_type": "markdown",
   "metadata": {},
   "source": [
    "# 8) For the next 24-ish hours in Miami, what percent of the time is the temperature above 85 degrees?\n",
    "\n",
    "- *Tip: You might want to read up on [looping patterns](http://jonathansoma.com/lede/foundations-2017/classes/data%20structures/looping-patterns/)*"
   ]
  },
  {
   "cell_type": "code",
   "execution_count": 185,
   "metadata": {
    "scrolled": false
   },
   "outputs": [],
   "source": [
    "fl_forecast = requests.get(f\"http://api.weatherapi.com/v1/forecast.json?key={WeatherAPIKey}&q=florida&days=7&aqi=no&alerts=no\").json()"
   ]
  },
  {
   "cell_type": "code",
   "execution_count": 186,
   "metadata": {},
   "outputs": [
    {
     "name": "stdout",
     "output_type": "stream",
     "text": [
      "Out of 72 hours, the temperature above 75F was 10 times. That would be 13.89%\n"
     ]
    }
   ],
   "source": [
    "#modified the criteria to 75F.\n",
    "hour_count = 0\n",
    "hot_count = 0\n",
    "for fl_day in fl_forecast['forecast']['forecastday']: \n",
    "    for fl_hour in fl_day['hour']: \n",
    "        hour_count =hour_count +1\n",
    "        if fl_hour['temp_f'] > 75:\n",
    "             hot_count= hot_count +1\n",
    "                \n",
    "hot_percent = round ((hot_count/hour_count)*100, 2)            \n",
    "print (f\"Out of {hour_count} hours, the temperature above 75F was {hot_count} times. That would be {hot_percent}%\" )        "
   ]
  },
  {
   "cell_type": "markdown",
   "metadata": {},
   "source": [
    "## 9) What was the temperature in Central Park on Christmas Day, 2020? How about 2012? 2007? How far back does the API allow you to go?\n",
    "\n",
    "- *Tip: You'll need to use latitude/longitude. You can ask Google where Central Park is, it knows*\n",
    "- *Tip: Remember when latitude/longitude might use negative numbers*"
   ]
  },
  {
   "cell_type": "code",
   "execution_count": 194,
   "metadata": {},
   "outputs": [
    {
     "ename": "SyntaxError",
     "evalue": "EOL while scanning string literal (<ipython-input-194-7ac2e6dfb6ac>, line 1)",
     "output_type": "error",
     "traceback": [
      "\u001b[0;36m  File \u001b[0;32m\"<ipython-input-194-7ac2e6dfb6ac>\"\u001b[0;36m, line \u001b[0;32m1\u001b[0m\n\u001b[0;31m    CP_xmas=requests.get(f\"http://api.weatherapi.com/v1/history.json?key={WeatherAPIKey}&q=lat=40.7812&lon=73.9665&dt=2010-12-24\u001b[0m\n\u001b[0m                                                                                                                                ^\u001b[0m\n\u001b[0;31mSyntaxError\u001b[0m\u001b[0;31m:\u001b[0m EOL while scanning string literal\n"
     ]
    }
   ],
   "source": [
    "CP_xmas=requests.get(f\"http://api.weatherapi.com/v1/history.json?key={WeatherAPIKey}&q=lat=40.7812&lon=73.9665&dt=2010-12-24\n",
    "\").json()\n",
    "                     \n",
    "#The data goes back to Jan. 1,  2010 but a free account doesn't have the access to that data.                      \n",
    "                     "
   ]
  },
  {
   "cell_type": "code",
   "execution_count": null,
   "metadata": {
    "collapsed": true
   },
   "outputs": [],
   "source": []
  }
 ],
 "metadata": {
  "kernelspec": {
   "display_name": "Python 3",
   "language": "python",
   "name": "python3"
  },
  "language_info": {
   "codemirror_mode": {
    "name": "ipython",
    "version": 3
   },
   "file_extension": ".py",
   "mimetype": "text/x-python",
   "name": "python",
   "nbconvert_exporter": "python",
   "pygments_lexer": "ipython3",
   "version": "3.8.10"
  }
 },
 "nbformat": 4,
 "nbformat_minor": 1
}
